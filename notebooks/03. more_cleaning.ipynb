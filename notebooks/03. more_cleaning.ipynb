{
 "cells": [
  {
   "cell_type": "code",
   "execution_count": 1,
   "metadata": {
    "collapsed": true
   },
   "outputs": [],
   "source": [
    "import pandas as pd\n",
    "import numpy as np\n",
    "import matplotlib.pyplot as plt\n",
    "%matplotlib inline"
   ]
  },
  {
   "cell_type": "code",
   "execution_count": 2,
   "metadata": {
    "collapsed": true
   },
   "outputs": [],
   "source": [
    "df = pd.read_pickle('../pickle_files/df1.p')"
   ]
  },
  {
   "cell_type": "code",
   "execution_count": 985,
   "metadata": {},
   "outputs": [
    {
     "data": {
      "text/html": [
       "<div>\n",
       "<style>\n",
       "    .dataframe thead tr:only-child th {\n",
       "        text-align: right;\n",
       "    }\n",
       "\n",
       "    .dataframe thead th {\n",
       "        text-align: left;\n",
       "    }\n",
       "\n",
       "    .dataframe tbody tr th {\n",
       "        vertical-align: top;\n",
       "    }\n",
       "</style>\n",
       "<table border=\"1\" class=\"dataframe\">\n",
       "  <thead>\n",
       "    <tr style=\"text-align: right;\">\n",
       "      <th></th>\n",
       "      <th>date</th>\n",
       "      <th>handle</th>\n",
       "      <th>id</th>\n",
       "      <th>language</th>\n",
       "      <th>tweet</th>\n",
       "      <th>tuples</th>\n",
       "      <th>tweets_clean</th>\n",
       "      <th>positive</th>\n",
       "      <th>negative</th>\n",
       "      <th>neutral</th>\n",
       "      <th>compound</th>\n",
       "      <th>United</th>\n",
       "      <th>Delta</th>\n",
       "      <th>Southwest</th>\n",
       "      <th>American</th>\n",
       "    </tr>\n",
       "  </thead>\n",
       "  <tbody>\n",
       "    <tr>\n",
       "      <th>0</th>\n",
       "      <td>2017-11-04 03:23:36</td>\n",
       "      <td>eirbearrr</td>\n",
       "      <td>59fd32ff291ebbf619c97774</td>\n",
       "      <td>en</td>\n",
       "      <td>@united And the plane is sitting here they won...</td>\n",
       "      <td>(help, one, is, sitting, here, us, the, wont, ...</td>\n",
       "      <td>and the plane is sitting here they wont let us...</td>\n",
       "      <td>0.118</td>\n",
       "      <td>0.096</td>\n",
       "      <td>0.786</td>\n",
       "      <td>0.1280</td>\n",
       "      <td>1.0</td>\n",
       "      <td>0.0</td>\n",
       "      <td>0.0</td>\n",
       "      <td>0.0</td>\n",
       "    </tr>\n",
       "    <tr>\n",
       "      <th>1</th>\n",
       "      <td>2017-11-04 03:23:34</td>\n",
       "      <td>arlohemphill</td>\n",
       "      <td>59fd32ff291ebbf619c97775</td>\n",
       "      <td>en</td>\n",
       "      <td>@united Sure, DMing now</td>\n",
       "      <td>(dming, sure, now)</td>\n",
       "      <td>sure dming now</td>\n",
       "      <td>0.434</td>\n",
       "      <td>0.000</td>\n",
       "      <td>0.566</td>\n",
       "      <td>0.3182</td>\n",
       "      <td>1.0</td>\n",
       "      <td>0.0</td>\n",
       "      <td>0.0</td>\n",
       "      <td>0.0</td>\n",
       "    </tr>\n",
       "    <tr>\n",
       "      <th>2</th>\n",
       "      <td>2017-11-04 03:22:36</td>\n",
       "      <td>JDR1024</td>\n",
       "      <td>59fd32ff291ebbf619c97776</td>\n",
       "      <td>en</td>\n",
       "      <td>@united United should show the elite status of...</td>\n",
       "      <td>(should, upgrade, of, list, united, show, the,...</td>\n",
       "      <td>united should show the elite status of passeng...</td>\n",
       "      <td>0.205</td>\n",
       "      <td>0.000</td>\n",
       "      <td>0.795</td>\n",
       "      <td>0.4753</td>\n",
       "      <td>1.0</td>\n",
       "      <td>0.0</td>\n",
       "      <td>0.0</td>\n",
       "      <td>0.0</td>\n",
       "    </tr>\n",
       "    <tr>\n",
       "      <th>3</th>\n",
       "      <td>2017-11-04 03:22:11</td>\n",
       "      <td>loooorenanicole</td>\n",
       "      <td>59fd32ff291ebbf619c97777</td>\n",
       "      <td>en</td>\n",
       "      <td>@united I'm SO DISAPPOINTED in your cust suppo...</td>\n",
       "      <td>(support, in, shame, so, im, on, you, your, cu...</td>\n",
       "      <td>im so disappointed in your cust support shame ...</td>\n",
       "      <td>0.145</td>\n",
       "      <td>0.427</td>\n",
       "      <td>0.429</td>\n",
       "      <td>-0.7398</td>\n",
       "      <td>1.0</td>\n",
       "      <td>0.0</td>\n",
       "      <td>0.0</td>\n",
       "      <td>0.0</td>\n",
       "    </tr>\n",
       "    <tr>\n",
       "      <th>4</th>\n",
       "      <td>2017-11-04 03:20:36</td>\n",
       "      <td>loooorenanicole</td>\n",
       "      <td>59fd32ff291ebbf619c97779</td>\n",
       "      <td>en</td>\n",
       "      <td>@united INCREDIBLY frustrated w/cust support, ...</td>\n",
       "      <td>(perks, frustrated, wcust, incredibly, explore...</td>\n",
       "      <td>incredibly frustrated wcust support im losing ...</td>\n",
       "      <td>0.214</td>\n",
       "      <td>0.252</td>\n",
       "      <td>0.534</td>\n",
       "      <td>-0.2830</td>\n",
       "      <td>1.0</td>\n",
       "      <td>0.0</td>\n",
       "      <td>1.0</td>\n",
       "      <td>0.0</td>\n",
       "    </tr>\n",
       "  </tbody>\n",
       "</table>\n",
       "</div>"
      ],
      "text/plain": [
       "                 date           handle                        id language  \\\n",
       "0 2017-11-04 03:23:36        eirbearrr  59fd32ff291ebbf619c97774       en   \n",
       "1 2017-11-04 03:23:34     arlohemphill  59fd32ff291ebbf619c97775       en   \n",
       "2 2017-11-04 03:22:36          JDR1024  59fd32ff291ebbf619c97776       en   \n",
       "3 2017-11-04 03:22:11  loooorenanicole  59fd32ff291ebbf619c97777       en   \n",
       "4 2017-11-04 03:20:36  loooorenanicole  59fd32ff291ebbf619c97779       en   \n",
       "\n",
       "                                               tweet  \\\n",
       "0  @united And the plane is sitting here they won...   \n",
       "1                            @united Sure, DMing now   \n",
       "2  @united United should show the elite status of...   \n",
       "3  @united I'm SO DISAPPOINTED in your cust suppo...   \n",
       "4  @united INCREDIBLY frustrated w/cust support, ...   \n",
       "\n",
       "                                              tuples  \\\n",
       "0  (help, one, is, sitting, here, us, the, wont, ...   \n",
       "1                                 (dming, sure, now)   \n",
       "2  (should, upgrade, of, list, united, show, the,...   \n",
       "3  (support, in, shame, so, im, on, you, your, cu...   \n",
       "4  (perks, frustrated, wcust, incredibly, explore...   \n",
       "\n",
       "                                        tweets_clean  positive  negative  \\\n",
       "0  and the plane is sitting here they wont let us...     0.118     0.096   \n",
       "1                                     sure dming now     0.434     0.000   \n",
       "2  united should show the elite status of passeng...     0.205     0.000   \n",
       "3  im so disappointed in your cust support shame ...     0.145     0.427   \n",
       "4  incredibly frustrated wcust support im losing ...     0.214     0.252   \n",
       "\n",
       "   neutral  compound  United  Delta  Southwest  American  \n",
       "0    0.786    0.1280     1.0    0.0        0.0       0.0  \n",
       "1    0.566    0.3182     1.0    0.0        0.0       0.0  \n",
       "2    0.795    0.4753     1.0    0.0        0.0       0.0  \n",
       "3    0.429   -0.7398     1.0    0.0        0.0       0.0  \n",
       "4    0.534   -0.2830     1.0    0.0        1.0       0.0  "
      ]
     },
     "execution_count": 985,
     "metadata": {},
     "output_type": "execute_result"
    }
   ],
   "source": [
    "df.head()"
   ]
  },
  {
   "cell_type": "markdown",
   "metadata": {},
   "source": [
    "#### Define positive and negative tweets by their compound score. Above +0.7 is a positive tweet, below -0.4 is a negative tweet. These threshholds gave me a good accuracy of actual positive and negative tweets. "
   ]
  },
  {
   "cell_type": "code",
   "execution_count": 3,
   "metadata": {
    "collapsed": true
   },
   "outputs": [],
   "source": [
    "mask = df['compound'] <= -0.4\n",
    "negative_rows = df.loc[mask] \n",
    "mask = df['compound'] >= 0.7\n",
    "positive_rows = df.loc[mask]\n",
    "mask = (df['compound'] > -0.4) & (df['compound'] < 0.7)\n",
    "neutral_rows = df.loc[mask]"
   ]
  },
  {
   "cell_type": "code",
   "execution_count": 4,
   "metadata": {},
   "outputs": [
    {
     "name": "stdout",
     "output_type": "stream",
     "text": [
      "10515\n",
      "6331\n"
     ]
    }
   ],
   "source": [
    "print(len(negative_rows))\n",
    "print(len(positive_rows))"
   ]
  },
  {
   "cell_type": "code",
   "execution_count": 10,
   "metadata": {},
   "outputs": [
    {
     "name": "stdout",
     "output_type": "stream",
     "text": [
      "125340\n",
      "@DogFaceSoldier @Delta And on this end, Delta Flt delayed &amp; missed connecting flt. Bonus is  morning chaos in ATL airport. Not a good sign when food is at gate..\n",
      "-0.6914\n"
     ]
    }
   ],
   "source": [
    "row = np.random.choice(negative_rows.index.values)\n",
    "print(row)\n",
    "print(negative_rows.loc[row, 'tweet'])\n",
    "print(negative_rows.loc[row, 'compound'])"
   ]
  },
  {
   "cell_type": "code",
   "execution_count": 11,
   "metadata": {},
   "outputs": [
    {
     "name": "stdout",
     "output_type": "stream",
     "text": [
      "102543\n",
      "@ThePrattPack4 @AmericanAir I really hope tomorrow Wii be better.  Thank you @AmericanAir!\n",
      "0.8221\n"
     ]
    }
   ],
   "source": [
    "row = np.random.choice(positive_rows.index.values)\n",
    "print(row)\n",
    "print(positive_rows.loc[row, 'tweet'])\n",
    "print(positive_rows.loc[row, 'compound'])"
   ]
  },
  {
   "cell_type": "markdown",
   "metadata": {},
   "source": [
    "#### Sanity check to see if the dates of the tweets are all in the same range."
   ]
  },
  {
   "cell_type": "code",
   "execution_count": 12,
   "metadata": {
    "collapsed": true
   },
   "outputs": [],
   "source": [
    "mask = df['United'] == 1.0"
   ]
  },
  {
   "cell_type": "code",
   "execution_count": 13,
   "metadata": {},
   "outputs": [
    {
     "data": {
      "text/plain": [
       "count                   12263\n",
       "unique                  12179\n",
       "top       2017-11-06 00:54:58\n",
       "freq                        3\n",
       "first     2017-10-25 03:17:46\n",
       "last      2017-11-07 03:22:49\n",
       "Name: date, dtype: object"
      ]
     },
     "execution_count": 13,
     "metadata": {},
     "output_type": "execute_result"
    }
   ],
   "source": [
    "df.loc[mask, 'date'].describe()"
   ]
  },
  {
   "cell_type": "code",
   "execution_count": 14,
   "metadata": {},
   "outputs": [
    {
     "data": {
      "text/plain": [
       "count                   18044\n",
       "unique                  17852\n",
       "top       2017-10-25 23:15:39\n",
       "freq                        3\n",
       "first     2017-10-25 03:41:37\n",
       "last      2017-11-07 03:22:49\n",
       "Name: date, dtype: object"
      ]
     },
     "execution_count": 14,
     "metadata": {},
     "output_type": "execute_result"
    }
   ],
   "source": [
    "mask = df['Delta'] == 1.0\n",
    "df.loc[mask, 'date'].describe()"
   ]
  },
  {
   "cell_type": "code",
   "execution_count": 15,
   "metadata": {},
   "outputs": [
    {
     "data": {
      "text/plain": [
       "count                   14475\n",
       "unique                  14332\n",
       "top       2017-10-25 20:27:51\n",
       "freq                        4\n",
       "first     2017-10-25 03:54:05\n",
       "last      2017-11-07 03:25:50\n",
       "Name: date, dtype: object"
      ]
     },
     "execution_count": 15,
     "metadata": {},
     "output_type": "execute_result"
    }
   ],
   "source": [
    "mask = df['Southwest'] == 1.0\n",
    "df.loc[mask, 'date'].describe()"
   ]
  },
  {
   "cell_type": "code",
   "execution_count": 16,
   "metadata": {},
   "outputs": [
    {
     "data": {
      "text/plain": [
       "count                   19487\n",
       "unique                  19214\n",
       "top       2017-10-25 15:32:30\n",
       "freq                        4\n",
       "first     2017-10-25 03:27:22\n",
       "last      2017-11-07 03:28:41\n",
       "Name: date, dtype: object"
      ]
     },
     "execution_count": 16,
     "metadata": {},
     "output_type": "execute_result"
    }
   ],
   "source": [
    "mask = df['American'] == 1.0\n",
    "df.loc[mask, 'date'].describe()"
   ]
  },
  {
   "cell_type": "markdown",
   "metadata": {},
   "source": [
    "#### No weird dates, but there do appear to be some duplicates."
   ]
  },
  {
   "cell_type": "markdown",
   "metadata": {},
   "source": [
    "#### Big cleaning. Prepare the tweets for analysis by removing stop words,  punctuation, numbers, replacing contractions, misspellings, and slang. "
   ]
  },
  {
   "cell_type": "code",
   "execution_count": 20,
   "metadata": {
    "collapsed": true
   },
   "outputs": [],
   "source": [
    "%run ../python_files/cleaning_helper.py"
   ]
  },
  {
   "cell_type": "code",
   "execution_count": 18,
   "metadata": {
    "collapsed": true
   },
   "outputs": [],
   "source": [
    "df1 = df.copy()"
   ]
  },
  {
   "cell_type": "code",
   "execution_count": 21,
   "metadata": {
    "collapsed": true
   },
   "outputs": [],
   "source": [
    "add_leading_and_trailing_space(df1, 'tweets_clean') \n",
    "df1 = filtration_1(df1, 'tweets_clean', 'tweets_clean1')\n",
    "add_leading_and_trailing_space(df1, 'tweets_clean1') \n",
    "contractions(df1, 'tweets_clean1')\n",
    "twitter_words(df1, 'tweets_clean1')\n",
    "airline_words(df1, 'tweets_clean1')"
   ]
  },
  {
   "cell_type": "code",
   "execution_count": 22,
   "metadata": {
    "collapsed": true
   },
   "outputs": [],
   "source": [
    "curse_words(df1, 'tweets_clean1')\n",
    "twitter_words(df1, 'tweets_clean1')\n",
    "filtration_2(df1, 'tweets_clean1')\n",
    "strip_leading_and_trailing_spaces(df1, 'tweets_clean1')"
   ]
  },
  {
   "cell_type": "code",
   "execution_count": 23,
   "metadata": {
    "collapsed": true
   },
   "outputs": [],
   "source": [
    "df1.set_index('date', inplace = True)"
   ]
  },
  {
   "cell_type": "code",
   "execution_count": 24,
   "metadata": {},
   "outputs": [
    {
     "data": {
      "text/plain": [
       "(62689, 15)"
      ]
     },
     "execution_count": 24,
     "metadata": {},
     "output_type": "execute_result"
    }
   ],
   "source": [
    "df1.shape"
   ]
  },
  {
   "cell_type": "code",
   "execution_count": 25,
   "metadata": {},
   "outputs": [
    {
     "data": {
      "text/plain": [
       "(61711, 15)"
      ]
     },
     "execution_count": 25,
     "metadata": {},
     "output_type": "execute_result"
    }
   ],
   "source": [
    "df1 = df1.drop_duplicates(subset='tweets_clean1', keep=\"first\") \n",
    "df1.shape"
   ]
  },
  {
   "cell_type": "markdown",
   "metadata": {},
   "source": [
    "#### How many tweets do we have for each day?"
   ]
  },
  {
   "cell_type": "code",
   "execution_count": 26,
   "metadata": {
    "collapsed": true
   },
   "outputs": [],
   "source": [
    "df1['time'] = df1.index.time\n",
    "df1['date'] = df1.index.date\n",
    "df1.set_index('date', inplace = True)\n",
    "df1.index.name = 'Date'"
   ]
  },
  {
   "cell_type": "code",
   "execution_count": 28,
   "metadata": {},
   "outputs": [
    {
     "data": {
      "text/plain": [
       "Date\n",
       "2017-10-25    5881\n",
       "2017-10-26    5552\n",
       "2017-10-27    5683\n",
       "2017-10-28    4620\n",
       "2017-10-29    4235\n",
       "2017-10-30    4819\n",
       "2017-10-31    3681\n",
       "2017-11-01    3577\n",
       "2017-11-02    4389\n",
       "2017-11-03    4541\n",
       "2017-11-04    3967\n",
       "2017-11-05    4477\n",
       "2017-11-06    5424\n",
       "2017-11-07     865\n",
       "Name: Number of Tweets, dtype: int64"
      ]
     },
     "execution_count": 28,
     "metadata": {},
     "output_type": "execute_result"
    }
   ],
   "source": [
    "tweets_per_day_df = df1.groupby('Date').count()['tweet']\n",
    "tweets_per_day_df.rename('Number of Tweets')"
   ]
  },
  {
   "cell_type": "code",
   "execution_count": 29,
   "metadata": {},
   "outputs": [
    {
     "data": {
      "image/png": "[encoded data removed]",
      "text/plain": [
       "<matplotlib.figure.Figure at 0x121c2ffd0>"
      ]
     },
     "metadata": {},
     "output_type": "display_data"
    }
   ],
   "source": [
    "labels = tweets_per_day_df.index.values\n",
    "ind = np.arange(len(labels))\n",
    "width = 0.5\n",
    "\n",
    "count = tweets_per_day_df\n",
    "plt.style.use('fivethirtyeight')\n",
    "fig = plt.figure(figsize = (14, 8))\n",
    "ax1 = fig.add_subplot(111)\n",
    "ax1.set_title('Tweets per day', fontsize = 30)\n",
    "ax1.set_xlabel('Date', fontsize = 15)\n",
    "ax1.set_ylabel('Count', fontsize = 15)\n",
    "ax1.bar(ind, count, width)\n",
    "ax1.set_xticks(ind)\n",
    "plt.xticks(rotation = 45)\n",
    "\n",
    "ax1.set_xticklabels(labels);"
   ]
  },
  {
   "cell_type": "markdown",
   "metadata": {},
   "source": [
    "#### Make a column for hashtags"
   ]
  },
  {
   "cell_type": "code",
   "execution_count": 30,
   "metadata": {
    "collapsed": true
   },
   "outputs": [],
   "source": [
    "df2 = df1.copy()"
   ]
  },
  {
   "cell_type": "code",
   "execution_count": 31,
   "metadata": {
    "collapsed": true
   },
   "outputs": [],
   "source": [
    "df2['hashtags'] = df2['tweets_clean1'].str.findall(r'#.*?(?=\\s|$)')"
   ]
  },
  {
   "cell_type": "code",
   "execution_count": 32,
   "metadata": {
    "collapsed": true
   },
   "outputs": [],
   "source": [
    "df2['Number of hashtags'] = df2['hashtags'].apply(lambda x: len(x))"
   ]
  },
  {
   "cell_type": "code",
   "execution_count": 33,
   "metadata": {},
   "outputs": [
    {
     "data": {
      "text/plain": [
       "16464"
      ]
     },
     "execution_count": 33,
     "metadata": {},
     "output_type": "execute_result"
    }
   ],
   "source": [
    "df2['Number of hashtags'].sum()"
   ]
  },
  {
   "cell_type": "code",
   "execution_count": 34,
   "metadata": {},
   "outputs": [
    {
     "data": {
      "text/plain": [
       "count    61711.000000\n",
       "mean         0.266792\n",
       "std          0.745358\n",
       "min          0.000000\n",
       "25%          0.000000\n",
       "50%          0.000000\n",
       "75%          0.000000\n",
       "max         11.000000\n",
       "Name: Number of hashtags, dtype: float64"
      ]
     },
     "execution_count": 34,
     "metadata": {},
     "output_type": "execute_result"
    }
   ],
   "source": [
    "df2['Number of hashtags'].describe()"
   ]
  },
  {
   "cell_type": "code",
   "execution_count": 35,
   "metadata": {
    "collapsed": true
   },
   "outputs": [],
   "source": [
    "mask = df2['hashtags'].astype(str) == '[]'\n",
    "df2.loc[mask, 'hashtags'] = np.nan"
   ]
  },
  {
   "cell_type": "code",
   "execution_count": 36,
   "metadata": {
    "collapsed": true
   },
   "outputs": [],
   "source": [
    "hashtags = [df2['hashtags'].values.reshape(-1,).tolist()]"
   ]
  },
  {
   "cell_type": "code",
   "execution_count": 37,
   "metadata": {
    "collapsed": true
   },
   "outputs": [],
   "source": [
    "import itertools\n",
    "unnested = list(itertools.chain(*hashtags))\n",
    "unnested = [x for x in unnested if str(x) != 'nan']\n",
    "unnested = list(itertools.chain(*unnested))"
   ]
  },
  {
   "cell_type": "code",
   "execution_count": 38,
   "metadata": {
    "collapsed": true
   },
   "outputs": [],
   "source": [
    "hashtags_series = pd.Series(unnested)\n",
    "hashtags_list = hashtags_series.value_counts().index.tolist()\n",
    "num_hashtags = hashtags_series.value_counts().tolist()\n",
    "hashtag_df = pd.DataFrame({'Hashtag': hashtags_list, 'Count': num_hashtags})"
   ]
  },
  {
   "cell_type": "code",
   "execution_count": 39,
   "metadata": {},
   "outputs": [
    {
     "data": {
      "text/plain": [
       "array(['#travel', '#avgeek', '#americanairlines', '#ua747farewell',\n",
       "       '#fail', '#customerservice', '#united', '#unitedairlines',\n",
       "       '#airlines', '#southwest'], dtype=object)"
      ]
     },
     "execution_count": 39,
     "metadata": {},
     "output_type": "execute_result"
    }
   ],
   "source": [
    "hashtag_df['Hashtag'][:10].values"
   ]
  },
  {
   "cell_type": "code",
   "execution_count": 40,
   "metadata": {},
   "outputs": [
    {
     "data": {
      "text/plain": [
       "array(['#travel', '#avgeek', '#americanairlines', '#ua747farewell',\n",
       "       '#fail', '#customerservice', '#united', '#unitedairlines',\n",
       "       '#airlines', '#southwest'], dtype=object)"
      ]
     },
     "execution_count": 40,
     "metadata": {},
     "output_type": "execute_result"
    }
   ],
   "source": [
    "names = hashtag_df['Hashtag'][:10].values\n",
    "names"
   ]
  },
  {
   "cell_type": "code",
   "execution_count": 41,
   "metadata": {
    "collapsed": true
   },
   "outputs": [],
   "source": [
    "hashtag_df = hashtag_df.set_index('Hashtag')"
   ]
  },
  {
   "cell_type": "code",
   "execution_count": 42,
   "metadata": {
    "collapsed": true
   },
   "outputs": [],
   "source": [
    "def get_count_of_hashtags(hashtags):\n",
    "    '''\n",
    "    input: hashtags (list) of hashtags\n",
    "    output: (list) of the count of hashtags    \n",
    "    '''\n",
    "    number = []\n",
    "    for hashtag in hashtags:\n",
    "        number.append(hashtag_df.loc[hashtag, 'Count'])\n",
    "    return number"
   ]
  },
  {
   "cell_type": "code",
   "execution_count": 43,
   "metadata": {},
   "outputs": [
    {
     "data": {
      "image/png": "[encoded data removed]",
      "text/plain": [
       "<matplotlib.figure.Figure at 0x121ad1518>"
      ]
     },
     "metadata": {},
     "output_type": "display_data"
    }
   ],
   "source": [
    "labels = list(hashtag_df.index[:10].values)\n",
    "ind = np.arange(len(labels))\n",
    "width = 0.5\n",
    "\n",
    "count = get_count_of_hashtags(names)\n",
    "plt.style.use('fivethirtyeight')\n",
    "fig = plt.figure(figsize = (14, 8))\n",
    "ax1 = fig.add_subplot(111)\n",
    "ax1.set_title('Top Hashtags', fontsize = 30)\n",
    "ax1.set_xlabel('Count', fontsize = 15)\n",
    "ax1.set_ylabel('Hashtag', fontsize = 15)\n",
    "ax1.barh(ind, count, width)\n",
    "ax1.set_yticks(ind)\n",
    "ax1.set_yticklabels(labels)\n",
    "plt.gca().invert_yaxis();"
   ]
  },
  {
   "cell_type": "markdown",
   "metadata": {},
   "source": [
    "#### I didn't do anything to incorporate hashtags into my final analysis. The most common ones were generic. There were a lot of unique hashtags that wouldn't be picked up in the analysis."
   ]
  },
  {
   "cell_type": "code",
   "execution_count": 44,
   "metadata": {
    "collapsed": true
   },
   "outputs": [],
   "source": [
    "df2.to_pickle('../pickle_files/df2.p')"
   ]
  },
  {
   "cell_type": "code",
   "execution_count": null,
   "metadata": {
    "collapsed": true
   },
   "outputs": [],
   "source": []
  }
 ],
 "metadata": {
  "kernelspec": {
   "display_name": "Python [conda root]",
   "language": "python",
   "name": "conda-root-py"
  },
  "language_info": {
   "codemirror_mode": {
    "name": "ipython",
    "version": 3
   },
   "file_extension": ".py",
   "mimetype": "text/x-python",
   "name": "python",
   "nbconvert_exporter": "python",
   "pygments_lexer": "ipython3",
   "version": "3.6.3"
  }
 },
 "nbformat": 4,
 "nbformat_minor": 2
}
