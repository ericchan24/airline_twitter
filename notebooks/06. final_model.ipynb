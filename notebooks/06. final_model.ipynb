{
 "cells": [
  {
   "cell_type": "code",
   "execution_count": 52,
   "metadata": {
    "collapsed": true
   },
   "outputs": [],
   "source": [
    "from sklearn.feature_extraction.text import CountVectorizer, TfidfVectorizer\n",
    "import pandas as pd\n",
    "import matplotlib.pyplot as plt\n",
    "import numpy as np\n",
    "from sklearn.decomposition import TruncatedSVD\n",
    "from sklearn.cluster import KMeans\n",
    "from sklearn.manifold import TSNE\n",
    "from spacy.en.word_sets import STOP_WORDS\n",
    "from sklearn.preprocessing import scale, Normalizer\n",
    "from sklearn.pipeline import make_pipeline\n",
    "\n",
    "plt.style.use('fivethirtyeight')"
   ]
  },
  {
   "cell_type": "code",
   "execution_count": 162,
   "metadata": {
    "collapsed": true
   },
   "outputs": [],
   "source": [
    "airlines = ['American', 'Delta', 'Southwest', 'United']\n",
    "aa_neg = pd.read_csv('../csvs/aa_neg.csv', index_col = 'Unnamed: 0')\n",
    "delta_neg = pd.read_csv('../csvs/delta_neg.csv', index_col = 'Unnamed: 0')\n",
    "sw_neg = pd.read_csv('../csvs/sw_neg.csv', index_col = 'Unnamed: 0')\n",
    "united_neg = pd.read_csv('../csvs/united_neg.csv', index_col = 'Unnamed: 0')\n",
    "dfs_neg = [aa_neg, delta_neg, sw_neg, united_neg]"
   ]
  },
  {
   "cell_type": "code",
   "execution_count": 163,
   "metadata": {},
   "outputs": [
    {
     "name": "stdout",
     "output_type": "stream",
     "text": [
      "(4070, 12)\n",
      "(2871, 12)\n",
      "(2036, 12)\n",
      "(2012, 12)\n"
     ]
    }
   ],
   "source": [
    "for df in dfs_neg:\n",
    "    print(df.shape)"
   ]
  },
  {
   "cell_type": "code",
   "execution_count": 164,
   "metadata": {
    "collapsed": true
   },
   "outputs": [],
   "source": [
    "aa_pos = pd.read_csv('../csvs/aa_pos.csv', index_col = 'Unnamed: 0')\n",
    "delta_pos = pd.read_csv('../csvs/delta_pos.csv', index_col = 'Unnamed: 0')\n",
    "sw_pos = pd.read_csv('../csvs/sw_pos.csv', index_col = 'Unnamed: 0')\n",
    "united_pos = pd.read_csv('../csvs/united_pos.csv', index_col = 'Unnamed: 0')\n",
    "dfs_pos = [aa_pos, delta_pos, sw_pos, united_pos]"
   ]
  },
  {
   "cell_type": "code",
   "execution_count": 165,
   "metadata": {},
   "outputs": [
    {
     "name": "stdout",
     "output_type": "stream",
     "text": [
      "(1757, 12)\n",
      "(2036, 12)\n",
      "(2014, 12)\n",
      "(1347, 12)\n"
     ]
    }
   ],
   "source": [
    "for df in dfs_pos:\n",
    "    print(df.shape)"
   ]
  },
  {
   "cell_type": "markdown",
   "metadata": {},
   "source": [
    "#### Create sentiment column"
   ]
  },
  {
   "cell_type": "code",
   "execution_count": 167,
   "metadata": {
    "collapsed": true
   },
   "outputs": [],
   "source": [
    "for df in dfs_pos:\n",
    "    mask = df['compound'] <= -0.4\n",
    "    df.loc[mask, 'negative_sent'] = 1.0\n",
    "    mask = df['compound'] >= 0.7\n",
    "    df.loc[mask, 'positive_sent'] = 1.0\n",
    "    mask = (df['compound'] > -0.4) & (df['compound'] < 0.7)\n",
    "    df.loc[mask, 'neutral_sent'] = 1.0\n",
    "for df in dfs_neg:\n",
    "    mask = df['compound'] <= -0.4\n",
    "    df.loc[mask, 'negative_sent'] = 1.0\n",
    "    mask = df['compound'] >= 0.7\n",
    "    df.loc[mask, 'positive_sent'] = 1.0\n",
    "    mask = (df['compound'] > -0.4) & (df['compound'] < 0.7)\n",
    "    df.loc[mask, 'neutral_sent'] = 1.0"
   ]
  },
  {
   "cell_type": "code",
   "execution_count": 168,
   "metadata": {
    "collapsed": true
   },
   "outputs": [],
   "source": [
    "def label_sentiment(row):\n",
    "    if row['neutral_sent'] == 1 :\n",
    "        return 'Neutral'\n",
    "    if row['positive_sent'] == 1 :\n",
    "        return 'Positive'\n",
    "    if row['negative_sent'] == 1 :\n",
    "        return 'Negative'"
   ]
  },
  {
   "cell_type": "code",
   "execution_count": 169,
   "metadata": {},
   "outputs": [],
   "source": [
    "for df in dfs_pos:\n",
    "    df['sentiment'] = df.apply(label_sentiment, axis=1)\n",
    "for df in dfs_neg:\n",
    "    df['sentiment'] = df.apply(label_sentiment, axis=1)"
   ]
  },
  {
   "cell_type": "code",
   "execution_count": 170,
   "metadata": {},
   "outputs": [],
   "source": [
    "cols_to_keep = ['Date', 'time', 'handle', 'tweet', 'tweets_clean1', 'hashtags', 'sentiment', \n",
    "                'United', 'Delta', 'Southwest', 'American']\n",
    "for df in dfs_pos:\n",
    "    df = df[cols_to_keep]\n",
    "for df in dfs_neg:\n",
    "    df = df[cols_to_keep]"
   ]
  },
  {
   "cell_type": "code",
   "execution_count": 171,
   "metadata": {},
   "outputs": [
    {
     "name": "stdout",
     "output_type": "stream",
     "text": [
      "(4070, 16)\n",
      "(2871, 16)\n",
      "(2036, 16)\n",
      "(2012, 16)\n",
      "(1757, 16)\n",
      "(2036, 16)\n",
      "(2014, 16)\n",
      "(1347, 16)\n"
     ]
    }
   ],
   "source": [
    "for df in dfs_neg:\n",
    "    print(df.shape)\n",
    "for df in dfs_pos:\n",
    "    print(df.shape)"
   ]
  },
  {
   "cell_type": "code",
   "execution_count": 181,
   "metadata": {},
   "outputs": [
    {
     "data": {
      "text/plain": [
       "(18143, 17)"
      ]
     },
     "execution_count": 181,
     "metadata": {},
     "output_type": "execute_result"
    }
   ],
   "source": [
    "df_whole = pd.concat([aa_neg, delta_neg, sw_neg, united_neg, aa_pos, delta_pos, sw_pos, united_pos])\n",
    "df_whole['All Airlines'] = 1.0\n",
    "df_whole.shape"
   ]
  },
  {
   "cell_type": "code",
   "execution_count": null,
   "metadata": {},
   "outputs": [],
   "source": [
    "unique = df_whole.loc[df_whole.index.value_counts() == 1].index.values\n",
    "# sorted(unique)"
   ]
  },
  {
   "cell_type": "code",
   "execution_count": 252,
   "metadata": {},
   "outputs": [
    {
     "data": {
      "text/plain": [
       "(17354, 17)"
      ]
     },
     "execution_count": 252,
     "metadata": {},
     "output_type": "execute_result"
    }
   ],
   "source": [
    "df_whole.loc[unique].shape"
   ]
  },
  {
   "cell_type": "code",
   "execution_count": 255,
   "metadata": {
    "collapsed": true
   },
   "outputs": [],
   "source": [
    "df_whole1 = df_whole.loc[unique].copy()"
   ]
  },
  {
   "cell_type": "code",
   "execution_count": null,
   "metadata": {
    "collapsed": true
   },
   "outputs": [],
   "source": []
  },
  {
   "cell_type": "code",
   "execution_count": 256,
   "metadata": {
    "collapsed": true
   },
   "outputs": [],
   "source": [
    "df_whole1.rename(columns={'American': 'American Airlines', \n",
    "                         'Delta': 'Delta Airlines',\n",
    "                         'Southwest': 'Southwest Airlines',\n",
    "                         'United': 'United Airlines'}, inplace=True)"
   ]
  },
  {
   "cell_type": "code",
   "execution_count": 260,
   "metadata": {
    "collapsed": true
   },
   "outputs": [],
   "source": [
    "df_whole1.to_csv('../csvs/df_whole1.csv')"
   ]
  },
  {
   "cell_type": "code",
   "execution_count": 261,
   "metadata": {},
   "outputs": [
    {
     "data": {
      "text/plain": [
       "(17354, 17)"
      ]
     },
     "execution_count": 261,
     "metadata": {},
     "output_type": "execute_result"
    }
   ],
   "source": [
    "df_whole1 = pd.read_csv('../csvs/df_whole1.csv', index_col = 'Unnamed: 0')\n",
    "df_whole1.shape"
   ]
  },
  {
   "cell_type": "code",
   "execution_count": 156,
   "metadata": {
    "collapsed": true
   },
   "outputs": [],
   "source": [
    "stop = STOP_WORDS.union({'flight', 'amp', 'im', 'fly', 'flights'})\n",
    "airline_stopwords = {'United': {'united'}, \n",
    "                  'Delta': {'delta', 'dea'},\n",
    "                  'Southwest' : {'southwest'},\n",
    "                  'American' : {'american', 'aa'}, \n",
    "                   }\n",
    "all_stop = stop.union({'united', 'delta', 'dea', 'southwest', 'american', \n",
    "                       'aa', 'flight', 'amp', 'im', 'fly',\n",
    "                      'good', 'thanks', 'great', 'thank', 'best', \n",
    "                       'like', 'awesome', 'today', 'airlines', 'better'})"
   ]
  },
  {
   "cell_type": "code",
   "execution_count": 157,
   "metadata": {
    "collapsed": true
   },
   "outputs": [],
   "source": [
    "def get_clusters_tfidf(df, col, airline, true_k = 5, n_components = 20, verbose = True, random_state = 24):\n",
    "#     df = df[df[airline] == 1] # convert the df to one with a single airline\n",
    "    vect = TfidfVectorizer(tokenizer = None,\n",
    "                               max_df = 0.5, \n",
    "                               max_features = 200000, \n",
    "                               stop_words = all_stop,\n",
    "                               use_idf = True, \n",
    "                               ngram_range=(1, 3),\n",
    "                               min_df = 3)\n",
    "    matrix = vect.fit_transform(df[col])\n",
    "    grams = vect.get_feature_names()\n",
    "    \n",
    "    # do svd\n",
    "    svd = TruncatedSVD(n_components = n_components, random_state = random_state)\n",
    "    normalizer = Normalizer(copy=False)\n",
    "    lsa = make_pipeline(svd, normalizer)\n",
    "    reduced_matrix = lsa.fit_transform(matrix)\n",
    "    \n",
    "    # do kmeans\n",
    "    km = KMeans(n_clusters = true_k, random_state = 24)\n",
    "    km.fit(reduced_matrix)\n",
    "    clusters = km.labels_.tolist()\n",
    "    original_space_centroids = svd.inverse_transform(km.cluster_centers_)\n",
    "    order_centroids = original_space_centroids.argsort()[:, ::-1]\n",
    "    \n",
    "    if verbose:\n",
    "        original_space_centroids = svd.inverse_transform(km.cluster_centers_)\n",
    "        order_centroids = original_space_centroids.argsort()[:, ::-1]\n",
    "        print('\\n', airline)\n",
    "        for i in range(true_k):\n",
    "            print(\"\\nCluster %d:\" % i)\n",
    "            print(', '.join([grams[ind] for ind in order_centroids[i, :25]]))\n",
    "    return km"
   ]
  },
  {
   "cell_type": "code",
   "execution_count": 86,
   "metadata": {
    "collapsed": true
   },
   "outputs": [],
   "source": []
  },
  {
   "cell_type": "code",
   "execution_count": 264,
   "metadata": {},
   "outputs": [
    {
     "name": "stdout",
     "output_type": "stream",
     "text": [
      "\n",
      " All Airlines\n",
      "\n",
      "Cluster 0:\n",
      "crew, nice, amazing, sure, right, new, yes, job, work, fun, morning, pretty, lol, trip, service, happy, day, getting, cool, hey, safe, super, hours, way, beautiful\n",
      "\n",
      "Cluster 1:\n",
      "service, customer, customer service, worst customer, worst customer service, worst, horrible, poor, disappointed, terrible, rude, bad, poor customer, poor customer service, amazing, terrible customer, new, travel, terrible customer service, horrible customer, horrible customer service, agent, excellent, seats, phone\n",
      "\n",
      "Cluster 2:\n",
      "love, love love, love flying, flying, new, love guys, guys, time, nice, people, travel, work, fun, free, passengers, love new, got, way, love field, field, friends, know, enjoy, lol, favorite\n",
      "\n",
      "Cluster 3:\n",
      "help, free, wifi, need, free wifi, hey, sure, nice, support, want, need help, airport, drink, appreciate, drinks, trying, lol, ticket, change, free drinks, check, bags, upgrade, free drink, phone\n",
      "\n",
      "Cluster 4:\n",
      "time, time flying, flying, waste, plane, airline, waste time, departure, delay, hour, wait, long time, long, second, rude, minutes, week, second time, boarding, delayed, delays, gate, know, stop, worst\n",
      "\n",
      "Cluster 5:\n",
      "seat, seats, class, upgrade, paid, pay, getting, broken, middle, ticket, disappointed, row, work, business, middle seat, window, extra, change, let, new, worse, sit, aisle, oh, comfort\n",
      "\n",
      "Cluster 6:\n",
      "gate, hours, delay, going, airport, hour, wait, agent, minutes, miss, gate agent, waiting, hour delay, check, morning, rude, stuck, sitting, work, unacceptable, late, disappointed, staff, told, horrible\n",
      "\n",
      "Cluster 7:\n",
      "plane, delayed, hours, delayed hours, hour, stuck, connection, gate, missed, sitting, cancelled, new, broken, minutes, seats, crew, passengers, night, pilot, miss, people, got, home, mechanical, delay\n",
      "\n",
      "Cluster 8:\n",
      "need, people, racist, care, disappointed, right, getting, black, think, seats, customers, passengers, stop, sad, travel, racism, air, hours, poor, naacp, change, treat, card, trying, credit\n",
      "\n",
      "Cluster 9:\n",
      "airline, bad, day, flying, thats, way, bag, experience, know, worst, got, home, hope, oh, guys, check, lost, travel, hey, shit, problem, happy, fuck, hell, wrong\n"
     ]
    }
   ],
   "source": [
    "km_all = get_clusters_tfidf(df = df_whole, \n",
    "                 col = 'tweets_clean1', \n",
    "                 airline = 'All Airlines',\n",
    "                 n_components = 50, \n",
    "                 true_k = 10, \n",
    "                 random_state = 42)"
   ]
  },
  {
   "cell_type": "code",
   "execution_count": 265,
   "metadata": {},
   "outputs": [
    {
     "data": {
      "text/plain": [
       "9    4919\n",
       "8    2843\n",
       "0    2240\n",
       "6    2142\n",
       "7    1076\n",
       "1    1066\n",
       "3     976\n",
       "5     719\n",
       "4     713\n",
       "2     660\n",
       "dtype: int64"
      ]
     },
     "execution_count": 265,
     "metadata": {},
     "output_type": "execute_result"
    }
   ],
   "source": [
    "pd.Series(km_all.labels_).value_counts()"
   ]
  },
  {
   "cell_type": "code",
   "execution_count": 288,
   "metadata": {},
   "outputs": [
    {
     "name": "stderr",
     "output_type": "stream",
     "text": [
      "/Users/eric/anaconda/lib/python3.6/site-packages/ipykernel/__main__.py:1: SettingWithCopyWarning: \n",
      "A value is trying to be set on a copy of a slice from a DataFrame.\n",
      "Try using .loc[row_indexer,col_indexer] = value instead\n",
      "\n",
      "See the caveats in the documentation: http://pandas.pydata.org/pandas-docs/stable/indexing.html#indexing-view-versus-copy\n",
      "  if __name__ == '__main__':\n"
     ]
    }
   ],
   "source": [
    "df_whole['cluster_num1'] = km_all.labels_"
   ]
  },
  {
   "cell_type": "code",
   "execution_count": 289,
   "metadata": {},
   "outputs": [],
   "source": [
    "df_whole.to_csv('../csvs/df_final.csv')"
   ]
  },
  {
   "cell_type": "code",
   "execution_count": 290,
   "metadata": {},
   "outputs": [
    {
     "data": {
      "text/html": [
       "<div>\n",
       "<style>\n",
       "    .dataframe thead tr:only-child th {\n",
       "        text-align: right;\n",
       "    }\n",
       "\n",
       "    .dataframe thead th {\n",
       "        text-align: left;\n",
       "    }\n",
       "\n",
       "    .dataframe tbody tr th {\n",
       "        vertical-align: top;\n",
       "    }\n",
       "</style>\n",
       "<table border=\"1\" class=\"dataframe\">\n",
       "  <thead>\n",
       "    <tr style=\"text-align: right;\">\n",
       "      <th></th>\n",
       "      <th>Date</th>\n",
       "      <th>time</th>\n",
       "      <th>handle</th>\n",
       "      <th>tweet</th>\n",
       "      <th>compound</th>\n",
       "      <th>American Airlines</th>\n",
       "      <th>Delta Airlines</th>\n",
       "      <th>Southwest Airlines</th>\n",
       "      <th>United Airlines</th>\n",
       "      <th>tweets_clean1</th>\n",
       "      <th>hashtags</th>\n",
       "      <th>cluster_num</th>\n",
       "      <th>negative_sent</th>\n",
       "      <th>positive_sent</th>\n",
       "      <th>neutral_sent</th>\n",
       "      <th>sentiment</th>\n",
       "      <th>All Airlines</th>\n",
       "      <th>cluter_num1</th>\n",
       "      <th>cluster_num1</th>\n",
       "    </tr>\n",
       "  </thead>\n",
       "  <tbody>\n",
       "    <tr>\n",
       "      <th>33303</th>\n",
       "      <td>2017-11-04</td>\n",
       "      <td>04:34:20</td>\n",
       "      <td>jdub_316</td>\n",
       "      <td>@AmericanAir The worse part is I know I’ll nev...</td>\n",
       "      <td>-0.4404</td>\n",
       "      <td>1.0</td>\n",
       "      <td>0.0</td>\n",
       "      <td>0.0</td>\n",
       "      <td>0.0</td>\n",
       "      <td>worse part know i will never get response apology</td>\n",
       "      <td>NaN</td>\n",
       "      <td>2</td>\n",
       "      <td>1.0</td>\n",
       "      <td>NaN</td>\n",
       "      <td>NaN</td>\n",
       "      <td>Negative</td>\n",
       "      <td>1.0</td>\n",
       "      <td>9</td>\n",
       "      <td>9</td>\n",
       "    </tr>\n",
       "    <tr>\n",
       "      <th>33304</th>\n",
       "      <td>2017-11-04</td>\n",
       "      <td>04:33:16</td>\n",
       "      <td>jdub_316</td>\n",
       "      <td>@AmericanAir I Live in DFW and am prisoner to ...</td>\n",
       "      <td>-0.5423</td>\n",
       "      <td>1.0</td>\n",
       "      <td>0.0</td>\n",
       "      <td>0.0</td>\n",
       "      <td>0.0</td>\n",
       "      <td>live dfw prisoner incredibly poorly run minute...</td>\n",
       "      <td>['#aaishorrible']</td>\n",
       "      <td>2</td>\n",
       "      <td>1.0</td>\n",
       "      <td>NaN</td>\n",
       "      <td>NaN</td>\n",
       "      <td>Negative</td>\n",
       "      <td>1.0</td>\n",
       "      <td>0</td>\n",
       "      <td>0</td>\n",
       "    </tr>\n",
       "    <tr>\n",
       "      <th>33313</th>\n",
       "      <td>2017-11-04</td>\n",
       "      <td>04:25:54</td>\n",
       "      <td>ToddBrown0323</td>\n",
       "      <td>@AmericanAir Still here!  Waiting for a gate a...</td>\n",
       "      <td>-0.7562</td>\n",
       "      <td>1.0</td>\n",
       "      <td>0.0</td>\n",
       "      <td>0.0</td>\n",
       "      <td>0.0</td>\n",
       "      <td>still waiting gate dfw flight wake hell</td>\n",
       "      <td>NaN</td>\n",
       "      <td>2</td>\n",
       "      <td>1.0</td>\n",
       "      <td>NaN</td>\n",
       "      <td>NaN</td>\n",
       "      <td>Negative</td>\n",
       "      <td>1.0</td>\n",
       "      <td>6</td>\n",
       "      <td>6</td>\n",
       "    </tr>\n",
       "    <tr>\n",
       "      <th>33321</th>\n",
       "      <td>2017-11-04</td>\n",
       "      <td>04:11:18</td>\n",
       "      <td>liz_depauw</td>\n",
       "      <td>.@AmericanAir at the rate customer service is ...</td>\n",
       "      <td>-0.7351</td>\n",
       "      <td>1.0</td>\n",
       "      <td>0.0</td>\n",
       "      <td>0.0</td>\n",
       "      <td>0.0</td>\n",
       "      <td>american air rate customer service moving migh...</td>\n",
       "      <td>NaN</td>\n",
       "      <td>3</td>\n",
       "      <td>1.0</td>\n",
       "      <td>NaN</td>\n",
       "      <td>NaN</td>\n",
       "      <td>Negative</td>\n",
       "      <td>1.0</td>\n",
       "      <td>1</td>\n",
       "      <td>1</td>\n",
       "    </tr>\n",
       "    <tr>\n",
       "      <th>33328</th>\n",
       "      <td>2017-11-04</td>\n",
       "      <td>03:54:24</td>\n",
       "      <td>cmullark</td>\n",
       "      <td>@AmericanAir So we deplane no one is there. Fl...</td>\n",
       "      <td>-0.6594</td>\n",
       "      <td>1.0</td>\n",
       "      <td>0.0</td>\n",
       "      <td>0.0</td>\n",
       "      <td>0.0</td>\n",
       "      <td>deplane one flight attendant gets someonego g2...</td>\n",
       "      <td>NaN</td>\n",
       "      <td>1</td>\n",
       "      <td>1.0</td>\n",
       "      <td>NaN</td>\n",
       "      <td>NaN</td>\n",
       "      <td>Negative</td>\n",
       "      <td>1.0</td>\n",
       "      <td>0</td>\n",
       "      <td>0</td>\n",
       "    </tr>\n",
       "  </tbody>\n",
       "</table>\n",
       "</div>"
      ],
      "text/plain": [
       "             Date      time         handle  \\\n",
       "33303  2017-11-04  04:34:20       jdub_316   \n",
       "33304  2017-11-04  04:33:16       jdub_316   \n",
       "33313  2017-11-04  04:25:54  ToddBrown0323   \n",
       "33321  2017-11-04  04:11:18     liz_depauw   \n",
       "33328  2017-11-04  03:54:24       cmullark   \n",
       "\n",
       "                                                   tweet  compound  \\\n",
       "33303  @AmericanAir The worse part is I know I’ll nev...   -0.4404   \n",
       "33304  @AmericanAir I Live in DFW and am prisoner to ...   -0.5423   \n",
       "33313  @AmericanAir Still here!  Waiting for a gate a...   -0.7562   \n",
       "33321  .@AmericanAir at the rate customer service is ...   -0.7351   \n",
       "33328  @AmericanAir So we deplane no one is there. Fl...   -0.6594   \n",
       "\n",
       "       American Airlines  Delta Airlines  Southwest Airlines  United Airlines  \\\n",
       "33303                1.0             0.0                 0.0              0.0   \n",
       "33304                1.0             0.0                 0.0              0.0   \n",
       "33313                1.0             0.0                 0.0              0.0   \n",
       "33321                1.0             0.0                 0.0              0.0   \n",
       "33328                1.0             0.0                 0.0              0.0   \n",
       "\n",
       "                                           tweets_clean1           hashtags  \\\n",
       "33303  worse part know i will never get response apology                NaN   \n",
       "33304  live dfw prisoner incredibly poorly run minute...  ['#aaishorrible']   \n",
       "33313            still waiting gate dfw flight wake hell                NaN   \n",
       "33321  american air rate customer service moving migh...                NaN   \n",
       "33328  deplane one flight attendant gets someonego g2...                NaN   \n",
       "\n",
       "       cluster_num  negative_sent  positive_sent  neutral_sent sentiment  \\\n",
       "33303            2            1.0            NaN           NaN  Negative   \n",
       "33304            2            1.0            NaN           NaN  Negative   \n",
       "33313            2            1.0            NaN           NaN  Negative   \n",
       "33321            3            1.0            NaN           NaN  Negative   \n",
       "33328            1            1.0            NaN           NaN  Negative   \n",
       "\n",
       "       All Airlines  cluter_num1  cluster_num1  \n",
       "33303           1.0            9             9  \n",
       "33304           1.0            0             0  \n",
       "33313           1.0            6             6  \n",
       "33321           1.0            1             1  \n",
       "33328           1.0            0             0  "
      ]
     },
     "execution_count": 290,
     "metadata": {},
     "output_type": "execute_result"
    }
   ],
   "source": [
    "df_whole.head()"
   ]
  },
  {
   "cell_type": "code",
   "execution_count": null,
   "metadata": {
    "collapsed": true
   },
   "outputs": [],
   "source": []
  }
 ],
 "metadata": {
  "kernelspec": {
   "display_name": "Python [conda root]",
   "language": "python",
   "name": "conda-root-py"
  },
  "language_info": {
   "codemirror_mode": {
    "name": "ipython",
    "version": 3
   },
   "file_extension": ".py",
   "mimetype": "text/x-python",
   "name": "python",
   "nbconvert_exporter": "python",
   "pygments_lexer": "ipython3",
   "version": "3.6.3"
  }
 },
 "nbformat": 4,
 "nbformat_minor": 2
}
